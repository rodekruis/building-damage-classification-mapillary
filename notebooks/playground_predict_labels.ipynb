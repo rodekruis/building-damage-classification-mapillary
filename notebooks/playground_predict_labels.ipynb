{
 "cells": [
  {
   "cell_type": "markdown",
   "metadata": {},
   "source": [
    "# Playground - Possible damage labels\n",
    "\n",
    "Predict whether \"possible damage\" labels can be classified as damaged or not"
   ]
  },
  {
   "cell_type": "markdown",
   "metadata": {},
   "source": [
    "## imports"
   ]
  },
  {
   "cell_type": "code",
   "execution_count": null,
   "metadata": {},
   "outputs": [],
   "source": [
    "import os\n",
    "os.chdir(\"..\")"
   ]
  },
  {
   "cell_type": "code",
   "execution_count": null,
   "metadata": {},
   "outputs": [],
   "source": [
    "os.getcwd()"
   ]
  },
  {
   "cell_type": "code",
   "execution_count": null,
   "metadata": {},
   "outputs": [],
   "source": [
    "import numpy as np\n",
    "import matplotlib.pyplot as plt\n",
    "import pandas as pd\n",
    "from scipy.spatial import cKDTree\n",
    "from shapely.geometry import Point\n",
    "import geopandas as gpd\n",
    "import json\n",
    "import re\n",
    "from sklearn.ensemble import RandomForestClassifier\n",
    "from sklearn.cluster import KMeans\n",
    "from sklearn.model_selection import cross_val_score\n",
    "\n",
    "from labelling_project_config import labelling_options, light_features, medium_features, heavy_features"
   ]
  },
  {
   "cell_type": "markdown",
   "metadata": {},
   "source": [
    "## Process data, use merge_results.py script, \n",
    "\n",
    "**refactor script in master if experiment is succesful?**"
   ]
  },
  {
   "cell_type": "code",
   "execution_count": null,
   "metadata": {},
   "outputs": [],
   "source": [
    "images = \"images/images.geojson\""
   ]
  },
  {
   "cell_type": "code",
   "execution_count": null,
   "metadata": {},
   "outputs": [],
   "source": [
    "submissions=\"submissions\""
   ]
  },
  {
   "cell_type": "code",
   "execution_count": null,
   "metadata": {},
   "outputs": [],
   "source": [
    "damage_features = labelling_options.keys()"
   ]
  },
  {
   "cell_type": "code",
   "execution_count": null,
   "metadata": {},
   "outputs": [],
   "source": [
    "df_image = gpd.read_file(images)\n",
    "df_image.index = df_image['key']\n",
    "df_image = df_image.drop(columns=['key'])"
   ]
  },
  {
   "cell_type": "code",
   "execution_count": null,
   "metadata": {},
   "outputs": [],
   "source": [
    "df_image = gpd.read_file(images)\n",
    "df_image.index = df_image['key']\n",
    "df_image = df_image.drop(columns=['key'])\n",
    "\n",
    "damage_features = labelling_options.keys()\n",
    "\n",
    "os.makedirs(submissions+'-processed', exist_ok=True)\n",
    "sub_proc_dir = submissions+'-processed'\n",
    "\n",
    "num_batches = len(list(set([re.findall(r\".*?_(\\d+)_.*\", x)[0] for x in os.listdir(submissions)])))\n",
    "print('found', num_batches, 'batches')\n",
    "\n",
    "# loop over batches\n",
    "for batch in range(num_batches):\n",
    "\n",
    "    # initialize geodatframe for results\n",
    "    df_image_batch = df_image.copy()\n",
    "\n",
    "    # get files and annotator names of this batch\n",
    "    files = [x for x in os.listdir(submissions) if str(batch) == re.findall(r\".*?_(\\d+)_.*\", x)[0]]\n",
    "    names = list(set([x.split('.')[0].split('_')[-1] for x in files]))\n",
    "    num_annotators = len(names)\n",
    "    map_names_ids = {name: i for i, name in enumerate(names)}\n",
    "    print('processing batch', batch, 'unique annotators', names)\n",
    "    batch_keys = []\n",
    "\n",
    "    # initialize empty columns in results geodatframe\n",
    "    for i in range(num_annotators):\n",
    "        for damage_feature in damage_features:\n",
    "            df_image_batch[damage_feature + '_' + str(i)] = False\n",
    "\n",
    "    # merge results from different files\n",
    "    for file in files:\n",
    "\n",
    "        name = file.split('.')[0].split('_')[-1]\n",
    "        annotator_id = map_names_ids[name]\n",
    "\n",
    "        with open(submissions+'/'+file) as json_file:\n",
    "            data = json.load(json_file)\n",
    "\n",
    "        for image in data['_via_img_metadata']:\n",
    "            labels = data['_via_img_metadata'][image]['file_attributes']['damage_labels']\n",
    "            for damage_feature in damage_features:\n",
    "                if damage_feature in labels.keys():\n",
    "                    df_image_batch.at[image, damage_feature+'_'+str(annotator_id)] = True\n",
    "        batch_keys = list(data['_via_img_metadata'])\n",
    "\n",
    "    # keep only images in batch\n",
    "    df_image_batch = df_image_batch[df_image_batch.index.isin(batch_keys)]\n",
    "    \n",
    "    # merge results from the diferrent annotators\n",
    "    for damage_feature in damage_features:\n",
    "        df_image_batch[damage_feature+'_num_true'] = np.nan\n",
    "        df_image_batch[damage_feature+'_num_annotator'] = np.nan\n",
    "\n",
    "    for image in df_image_batch.index:\n",
    "        df = df_image_batch.loc[image].copy()\n",
    "        for damage_feature in damage_features:\n",
    "            labels = [damage_feature+'_'+str(i) for i in range(num_annotators)]\n",
    "            values = df[labels].values\n",
    "            #### diff with merge script!!\n",
    "            df_image_batch.at[image, damage_feature + \"_num_true\"] = int(sum(values))\n",
    "            df_image_batch.at[image, damage_feature + \"_num_annotator\"] = int(len(values))\n",
    "                \n",
    "    \n",
    "    # save processed batch results\n",
    "    print('finished processing batch', batch, 'with', len(df_image_batch), 'entries')\n",
    "    if len(df_image_batch) > 0:\n",
    "        df_image_batch.to_file(sub_proc_dir+'/results_batch_'+str(batch)+'.geojson', driver='GeoJSON')"
   ]
  },
  {
   "cell_type": "code",
   "execution_count": null,
   "metadata": {},
   "outputs": [],
   "source": [
    "# merge results from all batches\n",
    "gdf_results = gpd.GeoDataFrame()\n",
    "for file in os.listdir(sub_proc_dir):\n",
    "    gdf_batch = gpd.read_file(sub_proc_dir+'/'+file)\n",
    "    gdf_results = gdf_results.append(gdf_batch, ignore_index=True)"
   ]
  },
  {
   "cell_type": "markdown",
   "metadata": {},
   "source": [
    "## Experiment: can we predict the consensus labels\n",
    "\n",
    "### Prepare the data"
   ]
  },
  {
   "cell_type": "code",
   "execution_count": null,
   "metadata": {},
   "outputs": [],
   "source": [
    "# try out with one damage class as target class\n",
    "model_damage_class = \"severe_structural_damage\""
   ]
  },
  {
   "cell_type": "code",
   "execution_count": null,
   "metadata": {},
   "outputs": [],
   "source": [
    "cols = [\"key\", \"geometry\"]\n",
    "for damage_class in damage_features:\n",
    "    cols.append(f\"{damage_class}_num_true\")\n",
    "    cols.append(f\"{damage_class}_num_annotator\")\n",
    "\n",
    "gdf_sub = gdf_results[cols]"
   ]
  },
  {
   "cell_type": "code",
   "execution_count": null,
   "metadata": {},
   "outputs": [],
   "source": [
    "for damage_class in damage_features:\n",
    "    gdf_sub.loc[:, f\"{damage_class}_num_true\"] = gdf_sub.loc[:, f\"{damage_class}_num_true\"].astype('int')\n",
    "    gdf_sub.loc[:, f\"{damage_class}_num_annotator\"] = gdf_sub.loc[:, f\"{damage_class}_num_annotator\"].astype('int')"
   ]
  },
  {
   "cell_type": "code",
   "execution_count": null,
   "metadata": {},
   "outputs": [],
   "source": [
    "# create labels: all true = 1, all false = 0, else unknown, coded as 2\n",
    "\n",
    "for damage_class in damage_features:\n",
    "    gdf_sub.loc[:, f\"{damage_class}_label\"] = 2\n",
    "\n",
    "    gdf_sub.loc[gdf_sub[f'{damage_class}_num_true'] == gdf_sub[f'{damage_class}_num_annotator'],\\\n",
    "                f\"{damage_class}_label\"] = 1\n",
    "    gdf_sub.loc[gdf_sub[f'{damage_class}_num_true'] == 0, \\\n",
    "                f\"{damage_class}_label\"] = 0\n"
   ]
  },
  {
   "cell_type": "code",
   "execution_count": null,
   "metadata": {},
   "outputs": [],
   "source": [
    "# plot \n",
    "fig, ax = plt.subplots(figsize=(15,20))\n",
    "gdf_sub.loc[gdf_sub[f'{damage_class}_label'] == 0].geometry.plot(color='blue',\\\n",
    "                                                                 ax=ax, alpha=0.3,\\\n",
    "                                                                 label=\"no damage\")\n",
    "gdf_sub.loc[gdf_sub[f'{damage_class}_label'] == 2].geometry.plot(color='orange',\\\n",
    "                                                                 ax=ax, alpha=0.5,\\\n",
    "                                                                 label=\"possible damage\")\n",
    "gdf_sub.loc[gdf_sub[f'{damage_class}_label'] == 1].geometry.plot(color='red',\\\n",
    "                                                                 ax=ax,\\\n",
    "                                                                 label=\"damage\")\n",
    "ax.legend()"
   ]
  },
  {
   "cell_type": "code",
   "execution_count": null,
   "metadata": {},
   "outputs": [],
   "source": [
    "# create features from gps points\n",
    "gdf_sub[\"x_coord\"] = gdf_sub.geometry.x\n",
    "gdf_sub[\"y_coord\"] = gdf_sub.geometry.y"
   ]
  },
  {
   "cell_type": "code",
   "execution_count": null,
   "metadata": {},
   "outputs": [],
   "source": [
    "# known labels to train and test model\n",
    "# apply model to unknown labels \n",
    "\n",
    "model_cols = [\"x_coord\", \"y_coord\"]\n",
    "for damage_class in damage_features:\n",
    "    model_cols.append(f\"{damage_class}_label\")\n",
    "\n",
    "train_test_gdf = gdf_sub.loc[gdf_sub[f\"{model_damage_class}_label\"] != 2][model_cols]\n",
    "\n",
    "predict_gdf = gdf_sub.loc[gdf_sub[f\"{model_damage_class}_label\"]== 2][model_cols]"
   ]
  },
  {
   "cell_type": "code",
   "execution_count": null,
   "metadata": {},
   "outputs": [],
   "source": [
    "# cast label to ints\n",
    "for damage_class in damage_features:\n",
    "    train_test_gdf.loc[:, f\"{damage_class}_label\"] = train_test_gdf.loc[:, f\"{damage_class}_label\"].astype('int')\n",
    "    predict_gdf.loc[:, f\"{damage_class}_label\"] = predict_gdf.loc[:, f\"{damage_class}_label\"].astype('int')\n",
    "    \n",
    "#shuffle data\n",
    "train_test_gdf = train_test_gdf.sample(frac=1)"
   ]
  },
  {
   "cell_type": "code",
   "execution_count": null,
   "metadata": {},
   "outputs": [],
   "source": [
    "# split data into train and test\n",
    "frac_predict = 0.2\n",
    "predict_size = int(train_test_gdf.shape[0]*frac_predict)\n",
    "\n",
    "train_df = train_test_gdf[:-predict_size]\n",
    "test_df = train_test_gdf[-predict_size:]\n",
    "\n",
    "# split into features and target\n",
    "target_list = [f\"{model_damage_class}_label\"]\n",
    "train_X = train_df.drop(columns=target_list)\n",
    "train_y = train_df[f\"{model_damage_class}_label\"]\n",
    "test_X = test_df.drop(columns=target_list)\n",
    "test_y = test_df[f\"{model_damage_class}_label\"]\n",
    "\n",
    "# do the same for all unknown labels for predicting\n",
    "predict_X = predict_gdf.drop(columns=target_list)"
   ]
  },
  {
   "cell_type": "markdown",
   "metadata": {},
   "source": [
    "## Random Forest"
   ]
  },
  {
   "cell_type": "code",
   "execution_count": null,
   "metadata": {},
   "outputs": [],
   "source": [
    "clf = RandomForestClassifier(n_estimators=10)"
   ]
  },
  {
   "cell_type": "code",
   "execution_count": null,
   "metadata": {},
   "outputs": [],
   "source": [
    "# Cross validation score on train data\n",
    "scores = cross_val_score(clf, train_X, train_y, cv=5)\n",
    "scores.mean()"
   ]
  },
  {
   "cell_type": "code",
   "execution_count": null,
   "metadata": {},
   "outputs": [],
   "source": [
    "# fit RF\n",
    "clf = clf.fit(train_X, train_y)"
   ]
  },
  {
   "cell_type": "code",
   "execution_count": null,
   "metadata": {},
   "outputs": [],
   "source": [
    "# Score on unseen data\n",
    "# check it's in the same order as average cross validation score\n",
    "clf.score(test_X, test_y)"
   ]
  },
  {
   "cell_type": "code",
   "execution_count": null,
   "metadata": {},
   "outputs": [],
   "source": [
    "# use model to predict whether the \"possible\" damage labels are yes or no\n",
    "predict_y = clf.predict(predict_X)"
   ]
  },
  {
   "cell_type": "code",
   "execution_count": null,
   "metadata": {},
   "outputs": [],
   "source": [
    "# transform to geodataframe for plotting\n",
    "predict_X[f\"{model_damage_class}_label\"] = predict_y\n",
    "\n",
    "gdf = gpd.GeoDataFrame(\n",
    "        predict_X, \n",
    "        geometry=gpd.points_from_xy(predict_X.x_coord, predict_X.y_coord))"
   ]
  },
  {
   "cell_type": "code",
   "execution_count": null,
   "metadata": {},
   "outputs": [],
   "source": [
    "### Plots\n",
    "\n",
    "# plot \n",
    "fig, ax = plt.subplots(figsize=(15,20))\n",
    "gdf.loc[gdf[f'{model_damage_class}_label'] == 0].geometry.plot(color='blue',\\\n",
    "                                                               ax=ax,\\\n",
    "                                                               alpha=1,\\\n",
    "                                                               marker=\"8\",\\\n",
    "                                                              label=\"predicted - no damage\")\n",
    "\n",
    "gdf.loc[gdf[f'{model_damage_class}_label'] == 1].geometry.plot(color='red',\\\n",
    "                                                               ax=ax,\\\n",
    "                                                               marker=\"8\",\\\n",
    "                                                              label=\"predicted - damage\")\n",
    "\n",
    "gdf_sub.loc[gdf_sub[f'{model_damage_class}_label'] == 1].geometry.plot(color='red',\\\n",
    "                                                                       ax=ax,\\\n",
    "                                                                       alpha=0.2,\\\n",
    "                                                                       label=\"groundtruth - damage\",\\\n",
    "                                                                      marker=\"+\")\n",
    "\n",
    "gdf_sub.loc[gdf_sub[f'{model_damage_class}_label'] == 0].geometry.plot(color='blue',\\\n",
    "                                                                       ax=ax,\\\n",
    "                                                                       alpha=0.2,\\\n",
    "                                                                      label=\"groundtruth - damage\",\\\n",
    "                                                                      marker=\"+\")\n",
    "\n",
    "ax.legend()\n"
   ]
  },
  {
   "cell_type": "markdown",
   "metadata": {},
   "source": [
    "### Evaluate what is the distance between \"possible damage\" points to its nearest neighbour with the same label as predicted label\"\n",
    "\n",
    "and compare with distance between nearest neighbours with the same label"
   ]
  },
  {
   "cell_type": "code",
   "execution_count": null,
   "metadata": {},
   "outputs": [],
   "source": [
    "def ckdnearest(gdA, gdB, k=1):\n",
    "    \"\"\"\n",
    "    Calculates for each point in gdB the distance to its kth nearest neighbour in gdA\n",
    "    \n",
    "    gdA : gpd.DataFrame\n",
    "    gdB: gpd.DataFrame\n",
    "    k: kth nearest neighbour, default=1, if gdA=gdB, then exclude distance to itself by choosing k=[2]\n",
    "    \n",
    "    return gdB with distance to kth nearest neighbour\n",
    "    \"\"\"\n",
    "    nA = np.array(list(gdA.geometry.apply(lambda x: (x.x, x.y))))\n",
    "    nB = np.array(list(gdB.geometry.apply(lambda x: (x.x, x.y))))\n",
    "    btree = cKDTree(nB)\n",
    "    dist, idx = btree.query(nA, k=k)\n",
    "    return gdB.reset_index(drop=True).join(pd.Series(dist.flatten(), name='dist'))\n"
   ]
  },
  {
   "cell_type": "code",
   "execution_count": null,
   "metadata": {},
   "outputs": [],
   "source": [
    "def gpd1(damage):\n",
    "    return gdf_sub.loc[gdf_sub[f'{model_damage_class}_label'] == damage]\n",
    "\n",
    "def gpd2(damage):\n",
    "    return gdf.loc[gdf[f'{model_damage_class}_label'] == damage]\n",
    "\n",
    "# boxplots of distance\n",
    "fig, axs = plt.subplots(1,2)\n",
    "axs[0].boxplot([ckdnearest(gpd1(0), gpd2(0)).dist,\\\n",
    "                ckdnearest(gpd1(0), gpd1(0), k=[2]).dist],\\\n",
    "               labels=[\"predicted\", \"groundtruth\"])\n",
    "\n",
    "axs[1].boxplot([ckdnearest(gpd1(1), gpd2(1)).dist.dropna(),\\\n",
    "                ckdnearest(gpd1(1), gpd1(1), k=[2]).dist],\\\n",
    "               labels=[\"predicted\", \"groundtruth\"])\n",
    "axs[0].set_title(\"no damage\")\n",
    "axs[1].set_title(\"damage\")"
   ]
  },
  {
   "cell_type": "markdown",
   "metadata": {},
   "source": [
    "## KMeans"
   ]
  },
  {
   "cell_type": "code",
   "execution_count": null,
   "metadata": {},
   "outputs": [],
   "source": [
    "n_clusters = 5\n",
    "kmeans = KMeans(n_clusters=n_clusters, random_state=0).fit(train_test_gdf)"
   ]
  },
  {
   "cell_type": "code",
   "execution_count": null,
   "metadata": {},
   "outputs": [],
   "source": [
    "y_clusters = kmeans.labels_"
   ]
  },
  {
   "cell_type": "code",
   "execution_count": null,
   "metadata": {},
   "outputs": [],
   "source": [
    "# plot \n",
    "fig, ax = plt.subplots(figsize=(20,5))\n",
    "\n",
    "for cluster in range(n_clusters):\n",
    "    plt.scatter(\n",
    "    x=train_test_gdf.loc[(y_clusters == cluster), \"x_coord\"],\n",
    "    y=train_test_gdf.loc[(y_clusters == cluster), \"y_coord\"])\n"
   ]
  },
  {
   "cell_type": "code",
   "execution_count": null,
   "metadata": {},
   "outputs": [],
   "source": []
  }
 ],
 "metadata": {
  "kernelspec": {
   "display_name": "building",
   "language": "python",
   "name": "building"
  },
  "language_info": {
   "codemirror_mode": {
    "name": "ipython",
    "version": 3
   },
   "file_extension": ".py",
   "mimetype": "text/x-python",
   "name": "python",
   "nbconvert_exporter": "python",
   "pygments_lexer": "ipython3",
   "version": "3.8.5"
  }
 },
 "nbformat": 4,
 "nbformat_minor": 4
}
